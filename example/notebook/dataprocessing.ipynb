{
 "cells": [
  {
   "cell_type": "code",
   "execution_count": 1,
   "id": "7b6798d5-7600-49e4-9203-e74defa73ec7",
   "metadata": {},
   "outputs": [],
   "source": [
    "import sys\n",
    "import os\n",
    "import random\n",
    "import numpy as np\n",
    "import pandas as pd\n",
    "import requests\n",
    "import pickle\n",
    "\n",
    "sys.path.insert(0, '../')\n",
    "\n",
    "from pathlib import Path\n",
    "\n",
    "# TensorFlow imports\n",
    "import tensorflow as tf\n",
    "import tensorflow_probability as tfp\n",
    "\n",
    "%matplotlib inline"
   ]
  },
  {
   "cell_type": "code",
   "execution_count": 2,
   "id": "f0817625-a85e-4838-a6d6-0ffb12a09203",
   "metadata": {},
   "outputs": [],
   "source": [
    "# Select strata\n",
    "TUMOR_TYPES = [\n",
    "    #\"BLCA\",\n",
    "    \"BRCA\",\n",
    "    #\"CESC\",\n",
    "    \"COAD\",\n",
    "    #\"DLBC\",\n",
    "    \"GBM\",\n",
    "    #\"HNSC\",\n",
    "    \"KICH\",\n",
    "    \"KIRC\",\n",
    "    \"KIRP\",\n",
    "    #\"LAML\",\n",
    "    \"LGG\",\n",
    "    #\"LIHC\",\n",
    "    #\"LUAD\",\n",
    "    #\"LUSC\",\n",
    "    #\"OV\",\n",
    "    #\"PRAD\",\n",
    "    \"READ\",\n",
    "    #\"SKCM\",\n",
    "    #\"STAD\",\n",
    "    #\"THCA\",\n",
    "    #\"UCEC\",\n",
    "]"
   ]
  },
  {
   "cell_type": "code",
   "execution_count": 3,
   "id": "3297d15f-832b-49d9-a1de-a7afa81846ed",
   "metadata": {},
   "outputs": [],
   "source": [
    "# %% Specify relative paths.\n",
    "FILE_DIR = './'\n",
    "DATA_DIR = os.path.join(FILE_DIR, \"SourceData\")\n",
    "RSUBREAD_FOLDER = os.path.join(FILE_DIR, \"SourceData\", \"rsubread\")\n",
    "\n",
    "if not os.path.exists(RSUBREAD_FOLDER):\n",
    "    os.makedirs(RSUBREAD_FOLDER)\n",
    "    \n",
    "# Specify paths.\n",
    "clinical_variables_path = os.path.join(RSUBREAD_FOLDER, \"clinical_variables.txt.gz\")\n",
    "cancer_type_path = os.path.join(RSUBREAD_FOLDER, \"cancer_types.txt.gz\")\n",
    "rsubread_gene_counts_path = os.path.join(RSUBREAD_FOLDER, \"gene_counts.txt.gz\")"
   ]
  },
  {
   "cell_type": "code",
   "execution_count": 4,
   "id": "a6335a0d-29a6-4824-bf94-dec7aa0a57c5",
   "metadata": {},
   "outputs": [
    {
     "name": "stdout",
     "output_type": "stream",
     "text": [
      "____ Downloading data ____ \n",
      "\n",
      "Started Download of Clinical Variables...\n",
      "Done.\n",
      "Started Download of Cancer Types...\n",
      "Done.\n",
      "Started Download of Gene Counts...\n",
      "Done.\n"
     ]
    }
   ],
   "source": [
    "# %% Download data.\n",
    "print(\"____ Downloading data ____ \\n\")\n",
    "\n",
    "# Clinical Variables\n",
    "\n",
    "if not os.path.exists(clinical_variables_path):\n",
    "    print(\"Started Download of Clinical Variables...\")\n",
    "    clinical_variables_url = r\"https://ftp.ncbi.nlm.nih.gov/geo/series/GSE62nnn/GSE62944/suppl/GSE62944%5F06%5F01%5F15%5FTCGA%5F24%5F548%5FClinical%5FVariables%5F9264%5FSamples%2Etxt%2Egz\"\n",
    "\n",
    "    r = requests.get(clinical_variables_url)\n",
    "    with open(clinical_variables_path, \"wb\") as f:\n",
    "        f.write(r.content)\n",
    "\n",
    "    print(\"Done.\")\n",
    "else:\n",
    "    print(\"Raw data exists. Skipping Download.\")\n",
    "    \n",
    "    # Cancer types.\n",
    "if not os.path.exists(cancer_type_path):\n",
    "    print(\"Started Download of Cancer Types...\")\n",
    "    cancer_type_url = r\"https://ftp.ncbi.nlm.nih.gov/geo/series/GSE62nnn/GSE62944/suppl/GSE62944%5F06%5F01%5F15%5FTCGA%5F24%5FCancerType%5FSamples%2Etxt%2Egz\"\n",
    "\n",
    "    r = requests.get(cancer_type_url)\n",
    "    with open(cancer_type_path, \"wb\") as f:\n",
    "        f.write(r.content)\n",
    "\n",
    "    print(\"Done.\")\n",
    "\n",
    "# Gene counts.\n",
    "if not os.path.exists(rsubread_gene_counts_path):\n",
    "    print(\"Started Download of Gene Counts...\")\n",
    "    rsubread_gene_counts_url = r\"https://ftp.ncbi.nlm.nih.gov/geo/samples/GSM1536nnn/GSM1536837/suppl/GSM1536837%5F06%5F01%5F15%5FTCGA%5F24%2Etumor%5FRsubread%5FFeatureCounts%2Etxt%2Egz\"\n",
    "\n",
    "    r = requests.get(rsubread_gene_counts_url)\n",
    "    with open(rsubread_gene_counts_path, \"wb\") as f:\n",
    "        f.write(r.content)\n",
    "\n",
    "    print(\"Done.\")"
   ]
  },
  {
   "cell_type": "code",
   "execution_count": 5,
   "id": "85de72ef-0665-4606-bd0d-2e3c22c629aa",
   "metadata": {},
   "outputs": [
    {
     "name": "stdout",
     "output_type": "stream",
     "text": [
      "Opening downloaded data...\n"
     ]
    }
   ],
   "source": [
    "# %% Open downloaded data.\n",
    "\n",
    "print(\"Opening downloaded data...\")\n",
    "\n",
    "clinical_variables = pd.read_csv(clinical_variables_path, sep=\"\\t\", compression=\"gzip\", low_memory=False)\n",
    "cancer_types = pd.read_csv(\n",
    "    cancer_type_path,\n",
    "    sep=\"\\t\",\n",
    "    header=0,\n",
    "    names=[\"patient_id\", \"tumor_type\"],\n",
    "    compression=\"gzip\",\n",
    ")\n",
    "gene_counts = pd.read_csv(rsubread_gene_counts_path, sep=\"\\t\", compression=\"gzip\")\n"
   ]
  },
  {
   "cell_type": "code",
   "execution_count": 6,
   "id": "04c11aeb-21ea-4e29-a5c9-b806b101f0d9",
   "metadata": {},
   "outputs": [
    {
     "name": "stderr",
     "output_type": "stream",
     "text": [
      "C:\\Users\\user\\anaconda3\\envs\\ai\\lib\\site-packages\\pandas\\core\\indexing.py:670: SettingWithCopyWarning: \n",
      "A value is trying to be set on a copy of a slice from a DataFrame\n",
      "\n",
      "See the caveats in the documentation: https://pandas.pydata.org/pandas-docs/stable/user_guide/indexing.html#returning-a-view-versus-a-copy\n",
      "  iloc._setitem_with_indexer(indexer, value)\n",
      "C:\\Users\\user\\AppData\\Local\\Temp\\ipykernel_9452\\2735047421.py:37: SettingWithCopyWarning: \n",
      "A value is trying to be set on a copy of a slice from a DataFrame\n",
      "\n",
      "See the caveats in the documentation: https://pandas.pydata.org/pandas-docs/stable/user_guide/indexing.html#returning-a-view-versus-a-copy\n",
      "  clinical_variables.event[clinical_variables.vital_status == \"Dead\"] = True\n",
      "C:\\Users\\user\\AppData\\Local\\Temp\\ipykernel_9452\\2735047421.py:38: SettingWithCopyWarning: \n",
      "A value is trying to be set on a copy of a slice from a DataFrame\n",
      "\n",
      "See the caveats in the documentation: https://pandas.pydata.org/pandas-docs/stable/user_guide/indexing.html#returning-a-view-versus-a-copy\n",
      "  clinical_variables.event[clinical_variables.vital_status == \"Alive\"] = False\n"
     ]
    },
    {
     "name": "stdout",
     "output_type": "stream",
     "text": [
      "Done.\n",
      "Merging with cancer types.\n",
      "Done.\n",
      "Merging with gene counts.\n",
      "Done.\n",
      "Merging all together.\n",
      "Done.\n",
      "Saving merged data...\n"
     ]
    }
   ],
   "source": [
    "# %% Clinical Variables\n",
    "clinical_variables = clinical_variables.drop(columns=[\"Unnamed: 1\", \"Unnamed: 2\"])\n",
    "clinical_variables.set_index(\"Unnamed: 0\", inplace=True)\n",
    "clinical_variables = clinical_variables.loc[\n",
    "    [\"vital_status\", \"last_contact_days_to\", \"death_days_to\"], :\n",
    "]\n",
    "clinical_variables = clinical_variables.T\n",
    "clinical_variables = clinical_variables.dropna(subset=[\"vital_status\"])\n",
    "clinical_variables = clinical_variables.dropna(\n",
    "    subset=[\"last_contact_days_to\", \"death_days_to\"]\n",
    ")\n",
    "clinical_variables = clinical_variables.loc[ clinical_variables.vital_status != \"[Not Available]\", :]\n",
    "\n",
    "clinical_variables[\"time\"] = -1\n",
    "mask = clinical_variables.vital_status == \"Dead\"\n",
    "clinical_variables.time.loc[mask] = clinical_variables.death_days_to.loc[mask]\n",
    "\n",
    "mask = clinical_variables.vital_status == \"Alive\"\n",
    "clinical_variables.time.loc[mask] = clinical_variables.last_contact_days_to.loc[\n",
    "    mask\n",
    "]\n",
    "\n",
    "# Drop all not usable data points.\n",
    "mask = (\n",
    "    (clinical_variables.time != \"[Not Available]\")\n",
    "    & (clinical_variables.time != \"[Discrepancy]\")\n",
    "    & (clinical_variables.time != \"[Completed]\")\n",
    ")\n",
    "clinical_variables = clinical_variables.loc[mask]\n",
    "\n",
    "# Drop non-positive survival times.\n",
    "clinical_variables.time = pd.to_numeric(clinical_variables.time)\n",
    "clinical_variables = clinical_variables.loc[clinical_variables.time > 0]\n",
    "\n",
    "# Set event indicator. Person died := event == True\n",
    "clinical_variables[\"event\"] = -1\n",
    "clinical_variables.event[clinical_variables.vital_status == \"Dead\"] = True\n",
    "clinical_variables.event[clinical_variables.vital_status == \"Alive\"] = False\n",
    "\n",
    "clinical_variables = clinical_variables.loc[:, [\"time\", \"event\"]]\n",
    "clinical_variables.reset_index(inplace=True)\n",
    "clinical_variables.rename(columns={\"index\": \"patient_id\"}, inplace=True)\n",
    "\n",
    "print(\"Done.\")\n",
    "# Merge with cancer types.\n",
    "print(\"Merging with cancer types.\")\n",
    "\n",
    "patients = pd.merge(cancer_types, clinical_variables, on=[\"patient_id\"])\n",
    "\n",
    "print(\"Done.\")\n",
    "\n",
    "# Merge with gene Counts.\n",
    "print(\"Merging with gene counts.\")\n",
    "\n",
    "gene_counts.set_index(\"Unnamed: 0\", inplace=True)\n",
    "gene_counts = gene_counts.T\n",
    "gene_counts.reset_index(inplace=True)\n",
    "gene_counts.rename(columns={\"index\": \"patient_id\"}, inplace=True)\n",
    "\n",
    "print(\"Done.\")\n",
    "# Data frame with all possible tumor types.\n",
    "print(\"Merging all together.\")\n",
    "\n",
    "full_data = pd.merge(patients, gene_counts, on=[\"patient_id\"])\n",
    "print(\"Done.\")\n",
    "\n",
    "print(\"Saving merged data...\")\n",
    "full_data.to_pickle(os.path.join(RSUBREAD_FOLDER, \"complete_data_merged.pickle\"))"
   ]
  },
  {
   "cell_type": "code",
   "execution_count": 7,
   "id": "f05a45c6-fd47-47bf-979e-6f42c7695413",
   "metadata": {},
   "outputs": [],
   "source": [
    "def Stacking(DataSet):\n",
    "    \n",
    "    StackedTotal = DataSet.stack().reset_index()\n",
    "    StackedTotal = StackedTotal.rename(columns={0:'GeneCount'})\n",
    "    return  StackedTotal"
   ]
  },
  {
   "cell_type": "code",
   "execution_count": 8,
   "id": "b5bdf6dd-7b4e-4c54-806f-661385aac966",
   "metadata": {},
   "outputs": [],
   "source": [
    "TotalData = full_data"
   ]
  },
  {
   "cell_type": "code",
   "execution_count": 14,
   "id": "ecfe27ce-ae5f-4b3b-90c9-f573ee39a0d7",
   "metadata": {},
   "outputs": [],
   "source": [
    "TUMOR_TYPE_COMBINATION = sorted([  \"COLO\", \"BRCA\", \"GLIOMA\", \"KIPAN\"]) # \"COLO\", \"BRCA\", \"GLIOMA\", \"KIPAN\"\n",
    "TotalData.loc[ TotalData['tumor_type'] == \"GBM\", 'tumor_type' ] = \"GLIOMA\"\n",
    "TotalData.loc[ TotalData['tumor_type'] == \"LGG\", 'tumor_type' ] = \"GLIOMA\"\n",
    "TotalData.loc[ TotalData['tumor_type'] == \"KIRP\", 'tumor_type' ] = \"KIPAN\"\n",
    "TotalData.loc[ TotalData['tumor_type'] == \"KICH\", 'tumor_type' ] = \"KIPAN\"\n",
    "TotalData.loc[ TotalData['tumor_type'] == \"KIRC\", 'tumor_type' ] = \"KIPAN\"\n",
    "TotalData.loc[ TotalData['tumor_type'] == \"COAD\", 'tumor_type' ] = \"COLO\"\n",
    "TotalData.loc[ TotalData['tumor_type'] == \"READ\", 'tumor_type' ] = \"COLO\"\n",
    "\n",
    "TotalData = TotalData[TotalData['tumor_type'].isin(TUMOR_TYPE_COMBINATION)].copy()\n",
    "\n",
    "\n",
    "## Varialbes which have small values should be removed\n",
    "RemCheckVar = TotalData.iloc[:, 4:].var()\n",
    "RemCheckSum = TotalData.iloc[:, 4:].sum()\n",
    "\n",
    "TotalData_copy = TotalData.copy()\n",
    "\n",
    "RemList = RemCheckSum[RemCheckSum < RemCheckSum.quantile(0.5)].index.to_list()\n",
    "TotalData = TotalData.drop(columns=RemList)\n",
    "\n",
    "RemList1 = RemCheckSum[RemCheckSum < RemCheckSum.quantile(0.995)].index.to_list()\n",
    "TotalData1 = TotalData_copy.drop(columns=RemList1)\n"
   ]
  },
  {
   "cell_type": "code",
   "execution_count": 10,
   "id": "4d0fdeeb-1707-4f9c-8709-e5c46c7e0d49",
   "metadata": {},
   "outputs": [],
   "source": [
    "LogTotalData = pd.DataFrame(np.log2(TotalData.iloc[:, 4:].values + 1), columns=TotalData.iloc[:, 4:].columns)\n",
    "LogTotalData = pd.concat([TotalData.iloc[:, :4].reset_index(drop=True), LogTotalData], axis=1)"
   ]
  },
  {
   "cell_type": "code",
   "execution_count": 11,
   "id": "4c4136c6-0e6f-4154-95a4-1e22cce0eebe",
   "metadata": {},
   "outputs": [],
   "source": [
    "TotalData = pd.DataFrame()\n",
    "\n",
    "for Type in LogTotalData['tumor_type'].unique():\n",
    "    #print(Type)\n",
    "    DataSub = LogTotalData[LogTotalData['tumor_type'] == Type].copy()\n",
    "    \n",
    "    SubMin = np.min(DataSub.iloc[:, 4:].values)\n",
    "    SubMax = np.max(DataSub.iloc[:, 4:].values)\n",
    "    #SubMin = DataSub.iloc[:, 4:].min()\n",
    "    #SubMax = DataSub.iloc[:, 4:].max()\n",
    "    \n",
    "    ## Normalization\n",
    "    DataSub.iloc[:, 4:] = (DataSub.iloc[:, 4:] -SubMin) / (SubMax - SubMin)\n",
    "    TotalData = TotalData.append(DataSub)\n",
    "    #print(DataSub)\n",
    "\n",
    "TotalData = TotalData.sample(frac=1).reset_index(drop=True)\n",
    "#TotalData = TotalData.reset_index(drop=True)\n",
    "gene_counts = TotalData.iloc[:, 4:] \n",
    "LogAnalData = pd.merge(TotalData[['patient_id','tumor_type','time','event']],LogTotalData, on=['patient_id','tumor_type','time','event'] ) "
   ]
  },
  {
   "cell_type": "code",
   "execution_count": 12,
   "id": "74ca377c-0011-477f-b43e-2209641d6263",
   "metadata": {},
   "outputs": [],
   "source": [
    "# TTE selection and generating the distance matrix\n",
    "TTE = np.log(TotalData['time'].values.astype('float32'))\n",
    "TTEXY  = np.matmul(TTE[:, None], TTE[None])\n",
    "DisimInd = TTE[:, None]**2 + TTE[ None]**2 - 2 *TTEXY\n",
    "DisimInd = np.sqrt(np.maximum(DisimInd, 1e-7))\n",
    "\n",
    "Event = TotalData['event'].values.astype('int32')\n",
    "GeneCount = gene_counts.reset_index(drop=True)\n",
    "GeneCount.index = GeneCount.index+1\n",
    "\n",
    "\n",
    "# generating gene to int map\n",
    "GeneList = GeneCount.columns.to_list()\n",
    "GeneToInt = { i : num+1 for num, i in enumerate(GeneList)}\n",
    "\n",
    "IntToGene= { i+1 : GeneList[i] for i in range(0, len(GeneList)) }\n",
    "GeneCount.columns = GeneToInt.values()\n",
    "\n",
    "StakedgData = Stacking(GeneCount)\n"
   ]
  },
  {
   "cell_type": "code",
   "execution_count": 16,
   "id": "7575300e-dd9c-46d6-868d-558f27248945",
   "metadata": {},
   "outputs": [],
   "source": [
    "folder_name = \"processedData\"\n",
    "\n",
    "if not os.path.exists(folder_name):\n",
    "    os.makedirs(folder_name)"
   ]
  },
  {
   "cell_type": "code",
   "execution_count": 17,
   "id": "c235b9a2-b9af-4e42-8fde-3ff09874ee52",
   "metadata": {},
   "outputs": [],
   "source": [
    "TotalData1.to_pickle('./processedData/TotalData1.pkl')\n",
    "np.save('./ProcessedData/GeneCount.npy',GeneCount)\n",
    "np.save('./ProcessedData/TTE.npy',TTE)\n",
    "np.save('./ProcessedData/EVENT.npy',Event)"
   ]
  },
  {
   "cell_type": "code",
   "execution_count": null,
   "id": "d8d3bd8b-24cc-4fbe-ad0d-2998c1cf5abe",
   "metadata": {},
   "outputs": [],
   "source": []
  }
 ],
 "metadata": {
  "kernelspec": {
   "display_name": "Python 3 (ipykernel)",
   "language": "python",
   "name": "python3"
  },
  "language_info": {
   "codemirror_mode": {
    "name": "ipython",
    "version": 3
   },
   "file_extension": ".py",
   "mimetype": "text/x-python",
   "name": "python",
   "nbconvert_exporter": "python",
   "pygments_lexer": "ipython3",
   "version": "3.8.16"
  }
 },
 "nbformat": 4,
 "nbformat_minor": 5
}
